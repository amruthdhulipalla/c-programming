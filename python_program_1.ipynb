{
  "cells": [
    {
      "cell_type": "markdown",
      "metadata": {
        "id": "view-in-github",
        "colab_type": "text"
      },
      "source": [
        "<a href=\"https://colab.research.google.com/github/amruthdhulipalla/c-programming/blob/main/python_program_1.ipynb\" target=\"_parent\"><img src=\"https://colab.research.google.com/assets/colab-badge.svg\" alt=\"Open In Colab\"/></a>"
      ]
    },
    {
      "cell_type": "markdown",
      "id": "ef743c0f",
      "metadata": {
        "id": "ef743c0f"
      },
      "source": [
        "# loops"
      ]
    },
    {
      "cell_type": "code",
      "execution_count": null,
      "id": "99610ce0",
      "metadata": {
        "id": "99610ce0",
        "outputId": "a05305b6-6534-470a-9274-73f85fbec98e"
      },
      "outputs": [
        {
          "name": "stdout",
          "output_type": "stream",
          "text": [
            "x: 10\n",
            "y: 20\n",
            "z: 30\n",
            "Scalene triangle\n"
          ]
        }
      ],
      "source": [
        " x = int(input(\"x: \"))\n",
        "y = int(input(\"y: \"))\n",
        "z = int(input(\"z: \"))\n",
        "\n",
        "if x== y == z:\n",
        "        print(\"Equilateral triangle\")\n",
        "elif x==y or y==z or z==x:\n",
        "        print(\"isosceles triangle\")\n",
        "else:\n",
        "        print(\"Scalene triangle\")\n",
        "        "
      ]
    },
    {
      "cell_type": "markdown",
      "id": "3bf86573",
      "metadata": {
        "id": "3bf86573"
      },
      "source": [
        "## leap year"
      ]
    },
    {
      "cell_type": "code",
      "execution_count": null,
      "id": "1c614aa2",
      "metadata": {
        "id": "1c614aa2",
        "outputId": "5d71f833-217e-47f2-c85f-a492feb0fb13"
      },
      "outputs": [
        {
          "name": "stdout",
          "output_type": "stream",
          "text": [
            "enter the year2022\n",
            "not a leap\n"
          ]
        }
      ],
      "source": [
        "a=int(input(\"enter the year\"))\n",
        "if a%4==0:\n",
        "    print(\"leap\")\n",
        "else:\n",
        "        print(\"not a leap\")"
      ]
    },
    {
      "cell_type": "markdown",
      "id": "6c826e02",
      "metadata": {
        "id": "6c826e02"
      },
      "source": [
        "## palindrome"
      ]
    },
    {
      "cell_type": "code",
      "execution_count": null,
      "id": "81694720",
      "metadata": {
        "id": "81694720",
        "outputId": "108a58a6-853f-480a-e6c0-16d9936ce2a6"
      },
      "outputs": [
        {
          "name": "stdout",
          "output_type": "stream",
          "text": [
            "Enter a number:121\n",
            "The number is palindrome!\n"
          ]
        }
      ],
      "source": [
        "num=int(input(\"Enter a number:\"))\n",
        "temp=num\n",
        "rev=0\n",
        "while(num>0):\n",
        "    dig=num%10\n",
        "    rev=rev*10+dig\n",
        "    num=num//10\n",
        "if(temp==rev):\n",
        "    print(\"The number is palindrome!\")\n",
        "else:\n",
        "    print(\"Not a palindrome!\")"
      ]
    },
    {
      "cell_type": "markdown",
      "id": "395222da",
      "metadata": {
        "id": "395222da"
      },
      "source": [
        "## swapping"
      ]
    },
    {
      "cell_type": "code",
      "execution_count": null,
      "id": "7dac910b",
      "metadata": {
        "id": "7dac910b",
        "outputId": "a852cbfe-4063-4316-8712-465dfd844fcf"
      },
      "outputs": [
        {
          "name": "stdout",
          "output_type": "stream",
          "text": [
            "enter the number5\n",
            "enter the number4\n",
            "4\n",
            "5\n"
          ]
        }
      ],
      "source": [
        "a=int(input(\"enter the number\"))\n",
        "b=int(input(\"enter the number\"))\n",
        "a=a+b\n",
        "b=a-b\n",
        "a=a-b\n",
        "print(a)\n",
        "print(b)"
      ]
    },
    {
      "cell_type": "code",
      "execution_count": null,
      "id": "ad10916c",
      "metadata": {
        "id": "ad10916c"
      },
      "outputs": [],
      "source": [
        ""
      ]
    }
  ],
  "metadata": {
    "kernelspec": {
      "display_name": "Python 3 (ipykernel)",
      "language": "python",
      "name": "python3"
    },
    "language_info": {
      "codemirror_mode": {
        "name": "ipython",
        "version": 3
      },
      "file_extension": ".py",
      "mimetype": "text/x-python",
      "name": "python",
      "nbconvert_exporter": "python",
      "pygments_lexer": "ipython3",
      "version": "3.9.7"
    },
    "colab": {
      "name": " python program 1.ipynb",
      "provenance": [],
      "include_colab_link": true
    }
  },
  "nbformat": 4,
  "nbformat_minor": 5
}